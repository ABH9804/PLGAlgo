{
 "cells": [
  {
   "cell_type": "code",
   "execution_count": 1,
   "id": "2b4b162a",
   "metadata": {},
   "outputs": [],
   "source": [
    "import numpy as np\n",
    "from pyDOE import *\n",
    "import random\n",
    "import matplotlib.pyplot as plt"
   ]
  },
  {
   "cell_type": "code",
   "execution_count": 2,
   "id": "cd3718ac",
   "metadata": {},
   "outputs": [],
   "source": [
    "# Sub-Algorithm A\n",
    "def SubA_algo(x):\n",
    "    space=np.zeros((18,102))\n",
    "    space[1:17,1:101] = x\n",
    "    space[0,:]=1\n",
    "    space[:,0]=1\n",
    "    space[:,-1]=1\n",
    "    space[-1,:]=0    \n",
    "    m=np.shape(space)[0]\n",
    "    n=np.shape(space)[1]\n",
    "    x00 = space[0:m-2,0:n-2]\n",
    "    x01 = space[0:m-2,1:n-1]\n",
    "    x02 = space[0:m-2,2:n  ]\n",
    "    x03 = space[1:m-1,2:n  ]\n",
    "    x04 = space[2:m,  2:n  ]\n",
    "    x05 = space[2:m,  1:n-1]\n",
    "    x06 = space[2:m  ,0:n-2]\n",
    "    x07 = space[1:m-1,0:n-2]\n",
    "\n",
    "    xall_sum = np.sum([x00,x01,x02,x03,x04,x05,x06,x07], axis = 0)\n",
    "    x1357_sum = np.sum([x01,x03,x05,x07], axis = 0)\n",
    "    x0246_sum = np.sum([x00,x02,x04,x06], axis = 0)\n",
    "    cond1 = x00*x01+x01*x02+x02*x03+x03*x04+x04*x05+x05*x06+x06*x07+x07*x00\n",
    "    cond2 = x00*x01*x02+x02*x03*x04+x04*x05*x06+x06*x07*x00\n",
    "\n",
    "    ip1, jp1 = np.where((x==0) & (xall_sum == 2) & (cond1==1))\n",
    "    ip2, jp2 = np.where((x==0) & (xall_sum == 3) & (cond2==1))\n",
    "    ip3, jp3 = np.where((x==0) & (x1357_sum==1) & (x0246_sum==0))\n",
    "\n",
    "    ip = np.concatenate((ip1+1,ip2+1,ip3+1)).tolist()\n",
    "    jp = np.concatenate((jp1+1,jp2+1,jp3+1)).tolist()\n",
    "    return ip, jp"
   ]
  },
  {
   "cell_type": "code",
   "execution_count": 3,
   "id": "14ccebec",
   "metadata": {},
   "outputs": [],
   "source": [
    "# Sub-Algorithm B\n",
    "def SubB_algo(ip,jp,design_ratio,x,t):\n",
    "    space=np.zeros((18,102))\n",
    "    space[1:17,1:101] = x\n",
    "    space[0,:]=1\n",
    "    space[:,0]=1\n",
    "    space[:,-1]=1\n",
    "    space[-1,:]=0    \n",
    "    ind = np.int32(np.ceil(len(ip)*design_ratio))-1\n",
    "    i_s=ip[ind]\n",
    "    j_s=jp[ind]\n",
    "    if space[i_s-1,j_s] == 1: \n",
    "        iw,jw = np.where(space[i_s:,j_s-1:j_s+2]==1)\n",
    "        c_list = np.arange(i_s+t,np.min(np.concatenate((np.array([len(space[:,0])]), iw+i_s),axis=0)))\n",
    "        if len(c_list) != 0:\n",
    "            p_l = np.random.choice(c_list)         \n",
    "            space[i_s:p_l,j_s]=1\n",
    "    elif space[i_s+1,j_s] == 1: \n",
    "        iw,jw = np.where(space[0:i_s+1,j_s-1:j_s+2]==1)\n",
    "        c_list = np.arange(np.max(np.concatenate((np.array([-1]), iw),axis=0)+2),i_s-t+1)\n",
    "        if len(c_list) != 0:\n",
    "            p_l = np.random.choice(c_list)      \n",
    "            space[p_l:i_s+1,j_s]=1\n",
    "    elif space[i_s,j_s-1] == 1: \n",
    "        iw,jw = np.where(space[i_s-1:i_s+2,j_s:]==1)\n",
    "        c_list = np.arange(j_s+t,np.min(np.concatenate((np.array([len(space[0,:])]), jw+j_s),axis=0)))\n",
    "        if len(c_list) != 0:\n",
    "            p_l = np.random.choice(c_list)        \n",
    "            space[i_s,j_s:p_l]=1\n",
    "    elif space[i_s,j_s+1] == 1:\n",
    "        iw,jw = np.where(space[i_s-1:i_s+2,0:j_s+1]==1)\n",
    "        c_list = np.arange(np.max(np.concatenate((np.array([-1]), jw),axis=0)+2),j_s-t+1)\n",
    "        if len(c_list) != 0:\n",
    "            p_l = np.random.choice(c_list)     \n",
    "            space[i_s,p_l:j_s+1]=1\n",
    "    return space[1:17,1:101]"
   ]
  },
  {
   "cell_type": "code",
   "execution_count": 4,
   "id": "eedd0f95",
   "metadata": {},
   "outputs": [],
   "source": [
    "# Define conditions\n",
    "B = 3  # The number of paritions\n",
    "NUM = 16  # The number of partition layouts to generate "
   ]
  },
  {
   "cell_type": "code",
   "execution_count": 5,
   "id": "69db18b0",
   "metadata": {},
   "outputs": [],
   "source": [
    "# PLG Algorithm \n",
    "X_set = np.empty(shape = [0,16,100])\n",
    "for j in np.arange(NUM):\n",
    "    X=np.zeros((16,100))\n",
    "    design_ratio = lhs(B, 1)\n",
    "    for i in np.arange(B):\n",
    "        ip,jp = SubA_algo(X)\n",
    "        X_c = np.copy(X)\n",
    "        while np.int32(np.sum(X_c)) == np.int32(np.sum(X)):\n",
    "            X = SubB_algo(ip,jp,design_ratio[0,i],X,0)\n",
    "    X_set = np.concatenate((X_set, X.reshape(1,16,100)), axis=0)    \n",
    "X_set = X_set.reshape(NUM,1600)"
   ]
  },
  {
   "cell_type": "code",
   "execution_count": 6,
   "id": "9762bbc3",
   "metadata": {},
   "outputs": [
    {
     "data": {
      "image/png": "[encoded data removed]",
      "text/plain": [
       "<Figure size 864x144 with 1 Axes>"
      ]
     },
     "metadata": {
      "needs_background": "light"
     },
     "output_type": "display_data"
    }
   ],
   "source": [
    "data_index = random.choice(list(range(NUM)))\n",
    "\n",
    "plt.figure(figsize=(12,2))\n",
    "ax=plt.subplot(1,1,1)\n",
    "plt.imshow(np.abs(X_set[data_index,:].reshape(16,100)-1),'gray')\n",
    "ax.get_xaxis().set_visible(False)\n",
    "ax.get_yaxis().set_visible(False)\n",
    "plt.show()"
   ]
  },
  {
   "cell_type": "code",
   "execution_count": null,
   "id": "7e4c219d",
   "metadata": {},
   "outputs": [],
   "source": []
  }
 ],
 "metadata": {
  "kernelspec": {
   "display_name": "Python 3 (ipykernel)",
   "language": "python",
   "name": "python3"
  },
  "language_info": {
   "codemirror_mode": {
    "name": "ipython",
    "version": 3
   },
   "file_extension": ".py",
   "mimetype": "text/x-python",
   "name": "python",
   "nbconvert_exporter": "python",
   "pygments_lexer": "ipython3",
   "version": "3.7.11"
  }
 },
 "nbformat": 4,
 "nbformat_minor": 5
}
